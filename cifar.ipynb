{
 "cells": [
  {
   "cell_type": "code",
   "execution_count": 1,
   "metadata": {},
   "outputs": [],
   "source": [
    "import tensorflow as tf\n",
    "from tensorflow.keras.datasets.cifar10 import load_data"
   ]
  },
  {
   "cell_type": "code",
   "execution_count": 2,
   "metadata": {},
   "outputs": [],
   "source": [
    "(x_train, y_train), (x_test, y_test) = load_data()"
   ]
  },
  {
   "cell_type": "code",
   "execution_count": 3,
   "metadata": {},
   "outputs": [],
   "source": [
    "x = tf.placeholder(tf.float32, shape=[None, 32, 32, 3])\n",
    "y = tf.placeholder(tf.float32, shape=[None, 10])\n",
    "keep_prob = tf.placeholder(tf.float32)"
   ]
  },
  {
   "cell_type": "code",
   "execution_count": 5,
   "metadata": {},
   "outputs": [
    {
     "name": "stdout",
     "output_type": "stream",
     "text": [
      "WARNING:tensorflow:From <ipython-input-5-cef8d490e813>:56: softmax_cross_entropy_with_logits (from tensorflow.python.ops.nn_ops) is deprecated and will be removed in a future version.\n",
      "Instructions for updating:\n",
      "\n",
      "Future major versions of TensorFlow will allow gradients to flow\n",
      "into the labels input on backprop by default.\n",
      "\n",
      "See `tf.nn.softmax_cross_entropy_with_logits_v2`.\n",
      "\n"
     ]
    }
   ],
   "source": [
    "def weight_variable(shape):\n",
    "    initial = tf.truncated_normal(shape, stddev = 0.05)\n",
    "    return tf.Variable(initial)\n",
    "\n",
    "def bias_variable(shape):\n",
    "    initial = tf.constant(0.1, shape = shape)\n",
    "    return tf.Variable(initial)\n",
    "\n",
    "def conv2d(x, w):\n",
    "    return tf.nn.conv2d(x, w, strides=[1,1,1,1], padding='SAME')\n",
    "\n",
    "def max_pool_2x2(x): # compression 2x2 -> 1x1\n",
    "    return tf.nn.max_pool(x, ksize=[1,3,3,1], strides=[1,2,2,1], padding='SAME')\n",
    "\n",
    "w_conv1 = weight_variable([5,5,3,64])\n",
    "b_conv1 = bias_variable([64])\n",
    "h_conv1 = tf.nn.relu(conv2d(x, w_conv1) + b_conv1)\n",
    "h_pool1 = max_pool_2x2(h_conv1)\n",
    "\n",
    "w_conv2 = weight_variable([5, 5, 64, 64])\n",
    "b_conv2 = bias_variable([64])\n",
    "h_conv2 = tf.nn.relu(conv2d(h_pool1, w_conv2) + b_conv2)\n",
    "h_pool2 = max_pool_2x2(h_conv2)\n",
    "\n",
    "w_conv3 = weight_variable([3, 3, 64, 128])\n",
    "b_conv3 = bias_variable([128])\n",
    "h_conv3 = tf.nn.relu(conv2d(h_pool2, w_conv3) + b_conv3)\n",
    "\n",
    "w_conv4 = weight_variable([3, 3, 128, 128])\n",
    "b_conv4 = bias_variable([128])\n",
    "h_conv4 = tf.nn.relu(conv2d(h_conv3, w_conv4) + b_conv4)\n",
    "\n",
    "w_conv5 = weight_variable([3, 3, 128, 128])\n",
    "b_conv5 = bias_variable([128])\n",
    "h_conv5 = tf.nn.relu(conv2d(h_conv4, w_conv5) + b_conv5)\n",
    "\n",
    "w_fc1 = weight_variable([8 * 8 * 128, 384])\n",
    "b_fc1 = bias_variable([384])\n",
    "\n",
    "h_conv5_flat = tf.reshape(h_conv5, [-1, 8*8*128])\n",
    "h_fc1 = tf.nn.relu(tf.matmul(h_conv5_flat, w_fc1) + b_fc1)\n",
    "\n",
    "keep_prob = tf.placeholder(\"float\")\n",
    "h_fc1_drop = tf.nn.dropout(h_fc1, keep_prob)\n",
    "\n",
    "\n",
    "w_fc2 = weight_variable([384, 10])\n",
    "b_fc2 = bias_variable([10])\n",
    "\n",
    "logits = tf.matmul(h_fc1_drop,w_fc2) + b_fc2\n",
    "y_conv = tf.nn.softmax(logits)\n",
    "    \n",
    "#y_conv = tf.nn.softmax(tf.matmul(h_fc1_drop, w_fc2) + b_fc2)\n",
    "\n",
    "#cross_entropy = -tf.reduce_sum(y*tf.log(tf.clip_by_value(y_conv,1e-10,1.0)))\n",
    "loss = tf.reduce_mean(tf.nn.softmax_cross_entropy_with_logits(labels=y, logits=logits))\n",
    "train_step = tf.train.RMSPropOptimizer(1e-3).minimize(loss)\n",
    "correct_prediction = tf.equal(tf.argmax(y_conv, 1), tf.argmax(y,1))\n",
    "accuracy = tf.reduce_mean(tf.cast(correct_prediction, \"float\"))"
   ]
  },
  {
   "cell_type": "code",
   "execution_count": 6,
   "metadata": {},
   "outputs": [],
   "source": [
    "import numpy as np\n",
    "def next_batch(num, data, labels):\n",
    "  '''\n",
    "  `num` 개수 만큼의 랜덤한 샘플들과 레이블들을 리턴합니다.\n",
    "  '''\n",
    "  idx = np.arange(0 , len(data))\n",
    "  np.random.shuffle(idx)\n",
    "  idx = idx[:num]\n",
    "  data_shuffle = [data[ i] for i in idx]\n",
    "  labels_shuffle = [labels[ i] for i in idx]\n",
    "\n",
    "  return np.asarray(data_shuffle), np.asarray(labels_shuffle)"
   ]
  },
  {
   "cell_type": "code",
   "execution_count": 36,
   "metadata": {},
   "outputs": [
    {
     "name": "stdout",
     "output_type": "stream",
     "text": [
      "[[0. 0. 0. 1. 0. 0. 0. 0. 0. 0.]\n",
      " [0. 0. 0. 0. 1. 0. 0. 0. 0. 0.]\n",
      " [0. 0. 1. 0. 0. 0. 0. 0. 0. 0.]\n",
      " [0. 0. 0. 0. 0. 0. 1. 0. 0. 0.]\n",
      " [0. 0. 0. 1. 0. 0. 0. 0. 0. 0.]\n",
      " [0. 0. 0. 0. 0. 0. 0. 0. 1. 0.]\n",
      " [0. 0. 0. 1. 0. 0. 0. 0. 0. 0.]\n",
      " [0. 0. 0. 0. 0. 1. 0. 0. 0. 0.]\n",
      " [0. 0. 0. 0. 0. 0. 0. 1. 0. 0.]\n",
      " [0. 0. 0. 0. 0. 0. 0. 1. 0. 0.]]\n"
     ]
    }
   ],
   "source": [
    "with tf.Session() as sess:\n",
    "    y_train_one_hot = tf.squeeze(tf.one_hot(y_train, 10),axis=1)\n",
    "    batch = next_batch(10, x_train, sess.run(y_train_one_hot))\n",
    "    print(batch[1])"
   ]
  },
  {
   "cell_type": "code",
   "execution_count": 8,
   "metadata": {},
   "outputs": [
    {
     "name": "stdout",
     "output_type": "stream",
     "text": [
      "\n",
      "step 0, training accuracy 0.101562 , loss : 167.148193\n",
      "\n",
      "step 100, training accuracy 0.125000 , loss : 2.270398\n",
      "\n",
      "step 200, training accuracy 0.132812 , loss : 2.280955\n",
      "\n",
      "step 300, training accuracy 0.265625 , loss : 2.135610\n",
      "\n",
      "step 400, training accuracy 0.328125 , loss : 1.805978\n",
      "\n",
      "step 500, training accuracy 0.406250 , loss : 1.663312\n",
      "\n",
      "step 600, training accuracy 0.367188 , loss : 1.617541\n",
      "\n",
      "step 700, training accuracy 0.476562 , loss : 1.452972\n",
      "\n",
      "step 800, training accuracy 0.414062 , loss : 1.581733\n",
      "\n",
      "step 900, training accuracy 0.507812 , loss : 1.453476\n",
      "\n",
      "step 1000, training accuracy 0.406250 , loss : 1.544656\n",
      "\n",
      "step 1100, training accuracy 0.414062 , loss : 1.532962\n",
      "\n",
      "step 1200, training accuracy 0.531250 , loss : 1.289706\n",
      "\n",
      "step 1300, training accuracy 0.515625 , loss : 1.238158\n",
      "\n",
      "step 1400, training accuracy 0.546875 , loss : 1.168049\n",
      "\n",
      "step 1500, training accuracy 0.679688 , loss : 1.037984\n",
      "\n",
      "step 1600, training accuracy 0.671875 , loss : 1.077959\n",
      "\n",
      "step 1700, training accuracy 0.640625 , loss : 1.228708\n",
      "\n",
      "step 1800, training accuracy 0.601562 , loss : 0.980298\n",
      "\n",
      "step 1900, training accuracy 0.609375 , loss : 1.175204\n",
      "\n",
      "step 2000, training accuracy 0.632812 , loss : 1.163936\n",
      "\n",
      "step 2100, training accuracy 0.617188 , loss : 1.089066\n",
      "\n",
      "step 2200, training accuracy 0.460938 , loss : 1.356367\n",
      "\n",
      "step 2300, training accuracy 0.609375 , loss : 1.017121\n",
      "\n",
      "step 2400, training accuracy 0.609375 , loss : 1.110739\n",
      "\n",
      "step 2500, training accuracy 0.679688 , loss : 0.986403\n",
      "\n",
      "step 2600, training accuracy 0.648438 , loss : 1.256305\n",
      "\n",
      "step 2700, training accuracy 0.570312 , loss : 1.274997\n",
      "\n",
      "step 2800, training accuracy 0.593750 , loss : 1.044181\n",
      "\n",
      "step 2900, training accuracy 0.656250 , loss : 0.957762\n",
      "\n",
      "step 3000, training accuracy 0.742188 , loss : 0.943881\n",
      "\n",
      "step 3100, training accuracy 0.625000 , loss : 1.137482\n",
      "\n",
      "step 3200, training accuracy 0.664062 , loss : 0.933874\n",
      "\n",
      "step 3300, training accuracy 0.632812 , loss : 0.960064\n",
      "\n",
      "step 3400, training accuracy 0.617188 , loss : 0.968837\n",
      "\n",
      "step 3500, training accuracy 0.648438 , loss : 0.988103\n",
      "\n",
      "step 3600, training accuracy 0.671875 , loss : 0.903921\n",
      "\n",
      "step 3700, training accuracy 0.742188 , loss : 0.773389\n",
      "\n",
      "step 3800, training accuracy 0.664062 , loss : 1.071840\n",
      "\n",
      "step 3900, training accuracy 0.515625 , loss : 1.296900\n",
      "\n",
      "step 4000, training accuracy 0.664062 , loss : 1.040789\n"
     ]
    }
   ],
   "source": [
    "sess = tf.Session()\n",
    "sess.run(tf.global_variables_initializer())\n",
    "y_train_one_hot = tf.squeeze(tf.one_hot(y_train, 10),axis=1)\n",
    "for i in  range(4001):    \n",
    "    batch = next_batch(128, x_train, sess.run(y_train_one_hot))\n",
    "    if i%100 == 0:\n",
    "        train_accuracy = sess.run(accuracy, feed_dict={x:batch[0], y:batch[1], keep_prob:1.0})\n",
    "        loss_print = sess.run(loss,feed_dict={x:batch[0], y:batch[1], keep_prob:1.0})\n",
    "        print(\"\\nstep %d, training accuracy %f , loss : %f\"%(i, train_accuracy, loss_print))\n",
    "#        pred_y = sess.run(y_conv, feed_dict={x:batch[0], keep_prob:1.0})\n",
    "#         for q in range(20):\n",
    "#             print(\"predict : \",sess.run(tf.argmax(pred_y[q])), \" , y : \",sess.run(tf.argmax(batch[1][q])))\n",
    "    sess.run(train_step, feed_dict={x:batch[0], y:batch[1], keep_prob: 0.5})        "
   ]
  },
  {
   "cell_type": "code",
   "execution_count": null,
   "metadata": {},
   "outputs": [],
   "source": []
  }
 ],
 "metadata": {
  "kernelspec": {
   "display_name": "Python 3",
   "language": "python",
   "name": "python3"
  },
  "language_info": {
   "codemirror_mode": {
    "name": "ipython",
    "version": 3
   },
   "file_extension": ".py",
   "mimetype": "text/x-python",
   "name": "python",
   "nbconvert_exporter": "python",
   "pygments_lexer": "ipython3",
   "version": "3.6.6"
  }
 },
 "nbformat": 4,
 "nbformat_minor": 2
}
